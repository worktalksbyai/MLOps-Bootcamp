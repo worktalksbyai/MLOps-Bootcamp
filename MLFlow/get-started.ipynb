{
 "cells": [
  {
   "cell_type": "markdown",
   "id": "ed35c9df",
   "metadata": {},
   "source": [
    "## MLFlow Tracking Server"
   ]
  },
  {
   "cell_type": "code",
   "execution_count": 1,
   "id": "40e98a4a",
   "metadata": {},
   "outputs": [],
   "source": [
    "import mlflow\n",
    "\n",
    "mlflow.set_tracking_uri(\"http://127.0.0.1:5000\")"
   ]
  },
  {
   "cell_type": "code",
   "execution_count": 3,
   "id": "c70915d9",
   "metadata": {},
   "outputs": [
    {
     "name": "stdout",
     "output_type": "stream",
     "text": [
      "🏃 View run suave-seal-561 at: http://127.0.0.1:5000/#/experiments/736552920255033048/runs/d9b7903fbf9f4de1a3770aee2df1173f\n",
      "🧪 View experiment at: http://127.0.0.1:5000/#/experiments/736552920255033048\n"
     ]
    }
   ],
   "source": [
    "mlflow.set_experiment(\"Check localhost connection\")\n",
    "\n",
    "with mlflow.start_run():\n",
    "    mlflow.log_metric(\"test\", 1)\n",
    "    mlflow.log_metric(\"Teja\", 2)"
   ]
  },
  {
   "cell_type": "code",
   "execution_count": 4,
   "id": "6d2ba8b2",
   "metadata": {},
   "outputs": [
    {
     "name": "stdout",
     "output_type": "stream",
     "text": [
      "🏃 View run stylish-mouse-546 at: http://127.0.0.1:5000/#/experiments/736552920255033048/runs/63eb663d03f54ba1934d0bb79dfcaf33\n",
      "🧪 View experiment at: http://127.0.0.1:5000/#/experiments/736552920255033048\n"
     ]
    }
   ],
   "source": [
    "with mlflow.start_run():\n",
    "    mlflow.log_metric(\"test1\", 1)\n",
    "    mlflow.log_metric(\"Teja1\", 2)"
   ]
  },
  {
   "cell_type": "code",
   "execution_count": 5,
   "id": "4689e7f2",
   "metadata": {},
   "outputs": [
    {
     "name": "stdout",
     "output_type": "stream",
     "text": [
      "🏃 View run victorious-seal-240 at: http://127.0.0.1:5000/#/experiments/736552920255033048/runs/de9eff49915545bf9700a88c3d931b39\n",
      "🧪 View experiment at: http://127.0.0.1:5000/#/experiments/736552920255033048\n"
     ]
    }
   ],
   "source": [
    "with mlflow.start_run():\n",
    "    mlflow.log_metric(\"test2\", 1)\n",
    "    mlflow.log_metric(\"Teja2\", 2)"
   ]
  },
  {
   "cell_type": "code",
   "execution_count": null,
   "id": "1e21eca5",
   "metadata": {},
   "outputs": [],
   "source": []
  }
 ],
 "metadata": {
  "kernelspec": {
   "display_name": "Python 3",
   "language": "python",
   "name": "python3"
  },
  "language_info": {
   "codemirror_mode": {
    "name": "ipython",
    "version": 3
   },
   "file_extension": ".py",
   "mimetype": "text/x-python",
   "name": "python",
   "nbconvert_exporter": "python",
   "pygments_lexer": "ipython3",
   "version": "3.12.0"
  }
 },
 "nbformat": 4,
 "nbformat_minor": 5
}
