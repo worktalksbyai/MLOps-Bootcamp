{
 "cells": [
  {
   "cell_type": "code",
   "execution_count": 2,
   "id": "76b3d895",
   "metadata": {},
   "outputs": [
    {
     "name": "stdout",
     "output_type": "stream",
     "text": [
      "Hello, How are you?\n",
      "I am good\n",
      "Teja Bhai great hai\n"
     ]
    }
   ],
   "source": [
    "with open('example.txt', 'r') as file:\n",
    "    content = file.read()\n",
    "print(content)"
   ]
  },
  {
   "cell_type": "code",
   "execution_count": 4,
   "id": "78c54d5b",
   "metadata": {},
   "outputs": [
    {
     "name": "stdout",
     "output_type": "stream",
     "text": [
      "Hello, How are you?\n",
      "I am good\n",
      "Teja Bhai great hai\n"
     ]
    }
   ],
   "source": [
    "with open('example.txt', 'r') as file:\n",
    "    for line in file:\n",
    "        print(line.strip())"
   ]
  },
  {
   "cell_type": "code",
   "execution_count": null,
   "id": "aed05cd4",
   "metadata": {},
   "outputs": [
    {
     "name": "stdout",
     "output_type": "stream",
     "text": [
      "This is a new line of text.\n",
      "This line is appended to the file.\n",
      "\n"
     ]
    }
   ],
   "source": [
    "with open('example.txt', 'w') as file: # Overwrite the file\n",
    "    file.write('This is a new line of text.\\n')\n",
    "with open('example.txt', 'a') as file: # Append to the file\n",
    "    file.write('This line is appended to the file.\\n')\n",
    "with open('example.txt', 'r') as file:\n",
    "    content = file.read()\n",
    "print(content)"
   ]
  },
  {
   "cell_type": "code",
   "execution_count": 6,
   "id": "26bdd341",
   "metadata": {},
   "outputs": [
    {
     "name": "stdout",
     "output_type": "stream",
     "text": [
      "First line.\n",
      "Second line.\n",
      "Third line.\n",
      "\n"
     ]
    }
   ],
   "source": [
    "lines = ['First line.\\n', 'Second line.\\n', 'Third line.\\n']\n",
    "with open('example.txt', 'w') as file:\n",
    "    file.writelines(lines)\n",
    "with open('example.txt', 'r') as file:\n",
    "    content = file.read()\n",
    "print(content)"
   ]
  },
  {
   "cell_type": "code",
   "execution_count": 7,
   "id": "1dc5fd45",
   "metadata": {},
   "outputs": [],
   "source": [
    "# Binary File Operations\n",
    "\n",
    "data = b'\\x00\\x01\\x02\\x03\\x04\\x05\\x06\\x07\\x08\\x09'\n",
    "with open('binary_example.bin', 'wb') as file:\n",
    "    file.write(data)"
   ]
  },
  {
   "cell_type": "code",
   "execution_count": 9,
   "id": "6fdb9fb9",
   "metadata": {},
   "outputs": [
    {
     "name": "stdout",
     "output_type": "stream",
     "text": [
      "b'\\x00\\x01\\x02\\x03\\x04\\x05\\x06\\x07\\x08\\t'\n"
     ]
    }
   ],
   "source": [
    "with open('binary_example.bin', 'rb') as file:\n",
    "    binary_content = file.read()\n",
    "print(binary_content)"
   ]
  },
  {
   "cell_type": "code",
   "execution_count": 10,
   "id": "784a9bac",
   "metadata": {},
   "outputs": [],
   "source": [
    "with open('source.txt', 'r') as source_file:\n",
    "    with open('destination.txt', 'w') as dest_file:\n",
    "        for line in source_file:\n",
    "            dest_file.write(line)"
   ]
  },
  {
   "cell_type": "code",
   "execution_count": 11,
   "id": "4d4166da",
   "metadata": {},
   "outputs": [
    {
     "name": "stdout",
     "output_type": "stream",
     "text": [
      "Lines: 3, Words: 6, Characters: 37\n"
     ]
    }
   ],
   "source": [
    "def count_text_file(file_path):\n",
    "    with open(file_path, 'r') as file:\n",
    "        lines = file.readlines()\n",
    "        line_count = len(lines)\n",
    "        word_count = sum(len(line.split()) for line in lines)\n",
    "        char_count = sum(len(line) for line in lines)\n",
    "    return line_count, word_count, char_count\n",
    "\n",
    "file_path = 'example.txt'\n",
    "line_count, word_count, char_count = count_text_file(file_path)\n",
    "print(f'Lines: {line_count}, Words: {word_count}, Characters: {char_count}')"
   ]
  },
  {
   "cell_type": "code",
   "execution_count": 12,
   "id": "62213d20",
   "metadata": {},
   "outputs": [
    {
     "name": "stdout",
     "output_type": "stream",
     "text": [
      "This is a test.\n",
      "\n"
     ]
    }
   ],
   "source": [
    "with open('example.txt', 'w+') as file:\n",
    "    file.write('This is a test.\\n')\n",
    "    file.seek(0)  # Move the cursor back to the beginning of the file\n",
    "    content = file.read()\n",
    "print(content)"
   ]
  },
  {
   "cell_type": "code",
   "execution_count": null,
   "id": "1471fa46",
   "metadata": {},
   "outputs": [],
   "source": []
  }
 ],
 "metadata": {
  "kernelspec": {
   "display_name": "base",
   "language": "python",
   "name": "python3"
  },
  "language_info": {
   "codemirror_mode": {
    "name": "ipython",
    "version": 3
   },
   "file_extension": ".py",
   "mimetype": "text/x-python",
   "name": "python",
   "nbconvert_exporter": "python",
   "pygments_lexer": "ipython3",
   "version": "3.12.7"
  }
 },
 "nbformat": 4,
 "nbformat_minor": 5
}
