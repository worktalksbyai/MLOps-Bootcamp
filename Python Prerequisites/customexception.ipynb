{
 "cells": [
  {
   "cell_type": "code",
   "execution_count": 1,
   "id": "d2aaf270",
   "metadata": {},
   "outputs": [],
   "source": [
    "class Error(Exception):\n",
    "    \"\"\"Base class for all errors in this module.\"\"\"\n",
    "    pass\n",
    "\n",
    "class dobException(Error):\n",
    "    \"\"\"Exception raised for errors in the date of birth.\"\"\"\n",
    "    pass"
   ]
  },
  {
   "cell_type": "code",
   "execution_count": 3,
   "id": "84742b3d",
   "metadata": {},
   "outputs": [
    {
     "name": "stdout",
     "output_type": "stream",
     "text": [
      "The age is valid. So, you can apply for the exams.\n"
     ]
    }
   ],
   "source": [
    "year = int(input(\"Enter your year of birth: \"))\n",
    "age = 2025 - year\n",
    "\n",
    "try:\n",
    "    if age <= 30 and age >= 20:\n",
    "        print(\"The age is valid. So, you can apply for the exams.\")\n",
    "    else:\n",
    "        raise dobException()\n",
    "except dobException:\n",
    "    print(\"Sorry, your age should be greater than 20 and less than or equal to 30.\")"
   ]
  },
  {
   "cell_type": "code",
   "execution_count": null,
   "id": "77546353",
   "metadata": {},
   "outputs": [],
   "source": []
  }
 ],
 "metadata": {
  "kernelspec": {
   "display_name": "base",
   "language": "python",
   "name": "python3"
  },
  "language_info": {
   "codemirror_mode": {
    "name": "ipython",
    "version": 3
   },
   "file_extension": ".py",
   "mimetype": "text/x-python",
   "name": "python",
   "nbconvert_exporter": "python",
   "pygments_lexer": "ipython3",
   "version": "3.12.7"
  }
 },
 "nbformat": 4,
 "nbformat_minor": 5
}
