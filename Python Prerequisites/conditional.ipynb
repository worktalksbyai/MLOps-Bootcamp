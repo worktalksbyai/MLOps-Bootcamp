{
 "cells": [
  {
   "cell_type": "code",
   "execution_count": 1,
   "id": "35b91aba",
   "metadata": {},
   "outputs": [
    {
     "name": "stdout",
     "output_type": "stream",
     "text": [
      "2013 is not a leap year\n",
      "Thank you for using the leap year checker!\n"
     ]
    }
   ],
   "source": [
    "year = int(input(\"Enter the year:\"))\n",
    "\n",
    "if year%4 == 0:\n",
    "    if year % 100 == 0:\n",
    "        if year % 400 == 0:\n",
    "            print(year, \"is a leap year\")\n",
    "        else:\n",
    "            print(year, \"is not a leap year\")\n",
    "    else:\n",
    "        print(year, \"is a leap year\")\n",
    "else:\n",
    "    print(year, \"is not a leap year\")\n",
    "print(\"Thank you for using the leap year checker!\")"
   ]
  },
  {
   "cell_type": "code",
   "execution_count": 2,
   "id": "1f51b84b",
   "metadata": {},
   "outputs": [
    {
     "name": "stdout",
     "output_type": "stream",
     "text": [
      "Result: 34.0\n",
      "Thank you for using the calculator!\n"
     ]
    }
   ],
   "source": [
    "num1 = float(input(\"Enter first number: \"))\n",
    "num2 = float(input(\"Enter second number: \"))\n",
    "operation = input(\"Enter operation (+, -, *, /): \")\n",
    "if operation == '+':\n",
    "    result = num1 + num2\n",
    "elif operation == '-':\n",
    "    result = num1 - num2\n",
    "elif operation == '*':\n",
    "    result = num1 * num2\n",
    "elif operation == '/':\n",
    "    if num2 != 0:\n",
    "        result = num1 / num2\n",
    "    else:\n",
    "        result = \"Error! Division by zero.\"\n",
    "else:\n",
    "    result = \"Invalid operation\"\n",
    "print(\"Result:\", result)\n",
    "print(\"Thank you for using the calculator!\")"
   ]
  },
  {
   "cell_type": "code",
   "execution_count": null,
   "id": "c1271db6",
   "metadata": {},
   "outputs": [],
   "source": []
  }
 ],
 "metadata": {
  "kernelspec": {
   "display_name": "base",
   "language": "python",
   "name": "python3"
  },
  "language_info": {
   "codemirror_mode": {
    "name": "ipython",
    "version": 3
   },
   "file_extension": ".py",
   "mimetype": "text/x-python",
   "name": "python",
   "nbconvert_exporter": "python",
   "pygments_lexer": "ipython3",
   "version": "3.12.7"
  }
 },
 "nbformat": 4,
 "nbformat_minor": 5
}
