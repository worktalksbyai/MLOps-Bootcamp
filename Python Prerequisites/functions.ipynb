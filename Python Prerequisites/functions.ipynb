{
 "cells": [
  {
   "cell_type": "code",
   "execution_count": 1,
   "id": "d46a4b3a",
   "metadata": {},
   "outputs": [
    {
     "name": "stdout",
     "output_type": "stream",
     "text": [
      "77.0\n",
      "25.0\n"
     ]
    }
   ],
   "source": [
    "def convert_temp(temp, unit):\n",
    "    \"\"\"This function converts temperature between Celsius and Fahrenheit.\"\"\"\n",
    "    if unit == 'C':\n",
    "        return (temp * 9/5) + 32 # Convert Celsius to Fahrenheit\n",
    "    elif unit == 'F':\n",
    "        return (temp - 32) * 5/9 # Convert Fahrenheit to Celsius\n",
    "    else:\n",
    "        raise ValueError(\"Unit must be 'C' for Celsius or 'F' for Fahrenheit\")\n",
    "\n",
    "print(convert_temp(25, 'C'))  # Example: Convert 25 degrees Celsius to Fahrenheit\n",
    "print(convert_temp(77, 'F'))  # Example: Convert 77 degrees Fahrenheit to Celsius"
   ]
  },
  {
   "cell_type": "code",
   "execution_count": 2,
   "id": "facd06f2",
   "metadata": {},
   "outputs": [
    {
     "name": "stdout",
     "output_type": "stream",
     "text": [
      "Password is strong.\n"
     ]
    }
   ],
   "source": [
    "def is_strong_pwd(password):\n",
    "    \"\"\"This function checks if a password is strong.\"\"\"\n",
    "    if len(password) < 8:\n",
    "        return False\n",
    "    if not any(char.isdigit() for char in password):\n",
    "        return False\n",
    "    if not any(char.isupper() for char in password):\n",
    "        return False\n",
    "    if not any(char.islower() for char in password):\n",
    "        return False\n",
    "    if not any(char in '!@#$%^&*()-_=+[]{}|;:,.<>?/' for char in password):\n",
    "        return False\n",
    "    return True\n",
    "\n",
    "new_pwd = input(\"Enter a new password: \")\n",
    "if is_strong_pwd(new_pwd):\n",
    "    print(\"Password is strong.\")\n",
    "else:\n",
    "    print(\"Password is weak. Please choose a stronger password.\")"
   ]
  },
  {
   "cell_type": "code",
   "execution_count": 3,
   "id": "ca2222af",
   "metadata": {},
   "outputs": [
    {
     "name": "stdout",
     "output_type": "stream",
     "text": [
      "Total cost of items in the cart: $6.20\n"
     ]
    }
   ],
   "source": [
    "def calc_total_cost(cart):\n",
    "    \"\"\"This function calculates the total cost of items in a shopping cart.\"\"\"\n",
    "    total_cost = 0\n",
    "    for item in cart:\n",
    "        total_cost += item['price'] * item['quantity']\n",
    "    return total_cost\n",
    "\n",
    "cart = [\n",
    "    {'name': 'Apple', 'price': 0.5, 'quantity': 4},\n",
    "    {'name': 'Banana', 'price': 0.3, 'quantity': 6},\n",
    "    {'name': 'Orange', 'price': 0.8, 'quantity': 3}\n",
    "]\n",
    "print(f\"Total cost of items in the cart: ${calc_total_cost(cart):.2f}\")"
   ]
  },
  {
   "cell_type": "code",
   "execution_count": 4,
   "id": "01973af4",
   "metadata": {},
   "outputs": [
    {
     "name": "stdout",
     "output_type": "stream",
     "text": [
      "\"madam\" is a palindrome.\n"
     ]
    }
   ],
   "source": [
    "def is_palindrome(s):\n",
    "    \"\"\"This function checks if a string is a palindrome.\"\"\"\n",
    "    s = s.lower().replace(\" \", \"\")  # Normalize the string\n",
    "    return s == s[::-1]  # Check if the string is equal to its reverse\n",
    "test_str = input(\"Enter a string to check if it's a palindrome: \")\n",
    "if is_palindrome(test_str):\n",
    "    print(f'\"{test_str}\" is a palindrome.')\n",
    "else:\n",
    "    print(f'\"{test_str}\" is not a palindrome.')"
   ]
  },
  {
   "cell_type": "code",
   "execution_count": 5,
   "id": "84c08c49",
   "metadata": {},
   "outputs": [
    {
     "name": "stdout",
     "output_type": "stream",
     "text": [
      "The factorial of 5 is 120.\n"
     ]
    }
   ],
   "source": [
    "def factorial(n):\n",
    "    \"\"\"This function calculates the factorial of a number.\"\"\"\n",
    "    if n < 0:\n",
    "        raise ValueError(\"Factorial is not defined for negative numbers.\")\n",
    "    if n == 0 or n == 1:\n",
    "        return 1\n",
    "    else:\n",
    "        return n * factorial(n - 1)\n",
    "    \n",
    "num = int(input(\"Enter a number to calculate its factorial: \"))\n",
    "try:\n",
    "    print(f\"The factorial of {num} is {factorial(num)}.\")\n",
    "except ValueError as e:\n",
    "    print(e)    "
   ]
  },
  {
   "cell_type": "code",
   "execution_count": 6,
   "id": "48bc8ded",
   "metadata": {},
   "outputs": [
    {
     "name": "stdout",
     "output_type": "stream",
     "text": [
      "Word frequencies:\n",
      "something: 1\n",
      "is: 2\n",
      "written: 1\n",
      "in: 1\n",
      "this: 2\n",
      "file: 1\n",
      "and: 1\n",
      "very: 1\n",
      "default: 1\n",
      "text: 1\n"
     ]
    }
   ],
   "source": [
    "def count_word_freq(file_path):\n",
    "    \"\"\"This function counts the frequency of each word in a text file.\"\"\"\n",
    "    word_freq = {}\n",
    "    try:\n",
    "        with open(file_path, 'r') as file:\n",
    "            for line in file:\n",
    "                words = line.split()\n",
    "                for word in words:\n",
    "                    word = word.lower().strip('.,!?\";:()[]{}')  # Normalize the word\n",
    "                    if word in word_freq:\n",
    "                        word_freq[word] += 1\n",
    "                    else:\n",
    "                        word_freq[word] = 1\n",
    "    except FileNotFoundError:\n",
    "        print(f\"The file {file_path} does not exist.\")\n",
    "        return {}\n",
    "    \n",
    "    return word_freq\n",
    "file_path = 'sample.txt'  # Replace with your file path\n",
    "word_frequencies = count_word_freq(file_path)\n",
    "if word_frequencies:\n",
    "    print(\"Word frequencies:\")\n",
    "    for word, freq in word_frequencies.items():\n",
    "        print(f\"{word}: {freq}\")\n",
    "else:\n",
    "    print(\"No words found or file is empty.\")   "
   ]
  },
  {
   "cell_type": "code",
   "execution_count": 7,
   "id": "1d8746a3",
   "metadata": {},
   "outputs": [
    {
     "name": "stdout",
     "output_type": "stream",
     "text": [
      "teja@gm.com is a valid email address.\n"
     ]
    }
   ],
   "source": [
    "def validate_email(email):\n",
    "    \"\"\"This function validates an email address.\"\"\"\n",
    "    import re\n",
    "    pattern = r'^[a-zA-Z0-9._%+-]+@[a-zA-Z0-9.-]+\\.[a-zA-Z]{2,}$'\n",
    "    if re.match(pattern, email):\n",
    "        return True\n",
    "    else:\n",
    "        return False\n",
    "    \n",
    "email = input(\"Enter an email address to validate: \")\n",
    "if validate_email(email):\n",
    "    print(f\"{email} is a valid email address.\")\n",
    "else:\n",
    "    print(f\"{email} is not a valid email address.\")"
   ]
  },
  {
   "cell_type": "code",
   "execution_count": null,
   "id": "83e4dce7",
   "metadata": {},
   "outputs": [],
   "source": []
  }
 ],
 "metadata": {
  "kernelspec": {
   "display_name": "base",
   "language": "python",
   "name": "python3"
  },
  "language_info": {
   "codemirror_mode": {
    "name": "ipython",
    "version": 3
   },
   "file_extension": ".py",
   "mimetype": "text/x-python",
   "name": "python",
   "nbconvert_exporter": "python",
   "pygments_lexer": "ipython3",
   "version": "3.12.7"
  }
 },
 "nbformat": 4,
 "nbformat_minor": 5
}
