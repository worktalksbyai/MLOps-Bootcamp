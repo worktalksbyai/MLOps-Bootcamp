{
 "cells": [
  {
   "cell_type": "code",
   "execution_count": 1,
   "id": "9591b9cb",
   "metadata": {},
   "outputs": [
    {
     "data": {
      "text/plain": [
       "<generator object square at 0x108d13ed0>"
      ]
     },
     "execution_count": 1,
     "metadata": {},
     "output_type": "execute_result"
    }
   ],
   "source": [
    "def square(n):\n",
    "    for i in range(n):\n",
    "        yield i * i\n",
    "\n",
    "square(3)"
   ]
  },
  {
   "cell_type": "code",
   "execution_count": 2,
   "id": "3b5ff61a",
   "metadata": {},
   "outputs": [
    {
     "name": "stdout",
     "output_type": "stream",
     "text": [
      "<generator object square at 0x108d13510>\n"
     ]
    }
   ],
   "source": [
    "print(square(3))"
   ]
  },
  {
   "cell_type": "code",
   "execution_count": 3,
   "id": "d20cdaf4",
   "metadata": {},
   "outputs": [
    {
     "name": "stdout",
     "output_type": "stream",
     "text": [
      "0\n",
      "1\n",
      "4\n"
     ]
    }
   ],
   "source": [
    "for i in square(3):\n",
    "    print(i)"
   ]
  },
  {
   "cell_type": "code",
   "execution_count": 9,
   "id": "a9c9bbc5",
   "metadata": {},
   "outputs": [
    {
     "name": "stdout",
     "output_type": "stream",
     "text": [
      "<generator object square at 0x10b30ce10>\n"
     ]
    }
   ],
   "source": [
    "a = square(3)\n",
    "print(a)"
   ]
  },
  {
   "cell_type": "code",
   "execution_count": 10,
   "id": "78286047",
   "metadata": {},
   "outputs": [
    {
     "data": {
      "text/plain": [
       "0"
      ]
     },
     "execution_count": 10,
     "metadata": {},
     "output_type": "execute_result"
    }
   ],
   "source": [
    "next(a)"
   ]
  },
  {
   "cell_type": "code",
   "execution_count": 13,
   "id": "d08105c6",
   "metadata": {},
   "outputs": [],
   "source": [
    "def my_generator():\n",
    "    yield 1\n",
    "    yield 2\n",
    "    yield 3\n",
    "\n",
    "g = my_generator()"
   ]
  },
  {
   "cell_type": "code",
   "execution_count": 14,
   "id": "48674547",
   "metadata": {},
   "outputs": [
    {
     "name": "stdout",
     "output_type": "stream",
     "text": [
      "1\n",
      "2\n",
      "3\n"
     ]
    }
   ],
   "source": [
    "for i in g:\n",
    "    print(i)"
   ]
  },
  {
   "cell_type": "markdown",
   "id": "ba66494d",
   "metadata": {},
   "source": [
    "Practicle Example: Reading Large Files"
   ]
  },
  {
   "cell_type": "code",
   "execution_count": 15,
   "id": "df2e5faa",
   "metadata": {},
   "outputs": [
    {
     "name": "stdout",
     "output_type": "stream",
     "text": [
      "This is a test.\n",
      "In a small, overlooked corner of the world,\n",
      "nestled between rolling hills and ancient forests,\n",
      "there existed a village that most maps had long forgotten.\n",
      "The villagers, a humble people of no particular fame or fortune,\n",
      "lived their lives bound closely to the rhythms of the land,\n",
      "the turning of the seasons, and the age-old traditions whispered by their ancestors.\n",
      "Every morning, the air carried the scent of dew-drenched grass and woodsmoke,\n",
      "while the horizon stretched endlessly, brushed with hues of lavender and gold. The people of this village believed the hills to be alive, not in the metaphorical sense, but truly breathing, conscious beings that had watched over them since time immemorial. Grandmothers told stories of spirits who dwelled in the streams, of trees that murmured secrets to those who cared to listen, and of a star that fell from the sky a thousand years ago, embedding itself deep within the earth, giving rise to a tree with leaves of silver that only bloomed once every hundred years. It was said that whoever witnessed the tree in bloom would be granted a single, precious moment where time would pause, allowing them to speak with those who had long passed or see the threads of their future unravel before them.\n",
      "\n",
      "Children would gather by the old well in the village square at dusk, daring each other to peer down its shadowy depths or to summon the spirit of the water maiden who, legend claimed, had once drowned there on a moonless night, betrayed by her lover. Some claimed to have seen her pale face ripple across the water's surface, her hair floating like ink in the darkness, though no one could say for sure if these tales were merely the product of overactive imaginations or something altogether more tangible. The village had no need for clocks; time was told by the position of the sun, the length of shadows, and the calls of birds whose songs marked the arrival of dawn, noon, and twilight. Markets were held on the second day after the full moon, weddings were celebrated beneath the oldest oak tree, and funerals took place at the break of dawn, when the veil between worlds was believed to be at its thinnest.\n",
      "\n",
      "Despite its obscurity, the village was no stranger to peculiar visitors. Travelers with eyes like storm clouds and voices that echoed like distant thunder would arrive, asking questions no ordinary stranger might think to pose: \"Where does the river end when the mountain swallows it?\" or \"Have you seen the crow with the white feather?\" They would stay a single night at the inn, drink a cup of herb-laced wine, and disappear by morning, leaving only a faint scent of lavender and iron behind. The villagers spoke of them in hushed voices, neither fearing nor welcoming them, for they understood that some mysteries were best left unexplored. Life in the village continued, quietly magical, untouched by the rush of the outside world, existing as though in a forgotten pocket of time where stories still held power and the unseen was always near.\n"
     ]
    }
   ],
   "source": [
    "def read_large_file(file_path):\n",
    "    with open(file_path, 'r') as file:\n",
    "        for line in file:\n",
    "            yield line.strip()\n",
    "\n",
    "file_path = 'example.txt'\n",
    "\n",
    "for line in read_large_file(file_path):\n",
    "    print(line)"
   ]
  },
  {
   "cell_type": "code",
   "execution_count": null,
   "id": "92ba0ba9",
   "metadata": {},
   "outputs": [],
   "source": []
  }
 ],
 "metadata": {
  "kernelspec": {
   "display_name": "base",
   "language": "python",
   "name": "python3"
  },
  "language_info": {
   "codemirror_mode": {
    "name": "ipython",
    "version": 3
   },
   "file_extension": ".py",
   "mimetype": "text/x-python",
   "name": "python",
   "nbconvert_exporter": "python",
   "pygments_lexer": "ipython3",
   "version": "3.12.7"
  }
 },
 "nbformat": 4,
 "nbformat_minor": 5
}
