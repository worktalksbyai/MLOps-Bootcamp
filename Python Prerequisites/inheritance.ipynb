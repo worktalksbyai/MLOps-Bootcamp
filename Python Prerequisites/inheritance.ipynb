{
 "cells": [
  {
   "cell_type": "code",
   "execution_count": 1,
   "id": "98245313",
   "metadata": {},
   "outputs": [],
   "source": [
    "class Car:\n",
    "    def __init__(self, windows, doors, enginetype):\n",
    "        self.windows = windows\n",
    "        self.doors = doors\n",
    "        self.enginetype = enginetype\n",
    "\n",
    "    def drive(self):\n",
    "        print(f\"The person will drive the {self.enginetype} car\")"
   ]
  },
  {
   "cell_type": "code",
   "execution_count": 2,
   "id": "a4d0271c",
   "metadata": {},
   "outputs": [
    {
     "name": "stdout",
     "output_type": "stream",
     "text": [
      "The person will drive the petrol car\n"
     ]
    }
   ],
   "source": [
    "car1 = Car(4, 4, \"petrol\")\n",
    "car1.drive()"
   ]
  },
  {
   "cell_type": "code",
   "execution_count": 6,
   "id": "dca70f8b",
   "metadata": {},
   "outputs": [],
   "source": [
    "class Tesla(Car):\n",
    "    def __init__(self, windows, doors, enginetype, autopilot):\n",
    "        super().__init__(windows, doors, enginetype)\n",
    "        self.autopilot = autopilot\n",
    "\n",
    "    def self_driving(self):\n",
    "        if self.autopilot:\n",
    "            print(\"This Tesla supports self-driving\")\n",
    "        else:\n",
    "            print(\"This Tesla does not support self-driving\")"
   ]
  },
  {
   "cell_type": "code",
   "execution_count": 7,
   "id": "9f6e59f2",
   "metadata": {},
   "outputs": [
    {
     "name": "stdout",
     "output_type": "stream",
     "text": [
      "This Tesla supports self-driving\n"
     ]
    }
   ],
   "source": [
    "tesla1 = Tesla(4, 4, \"electric\", True)\n",
    "tesla1.self_driving()"
   ]
  },
  {
   "cell_type": "code",
   "execution_count": 8,
   "id": "29ac73a8",
   "metadata": {},
   "outputs": [],
   "source": [
    "# Base class 1\n",
    "class Animal:\n",
    "    def __init__(self, name):\n",
    "        self.name = name\n",
    "\n",
    "    def speak(self):\n",
    "        print(\"Subclass must implement this method\")"
   ]
  },
  {
   "cell_type": "code",
   "execution_count": 9,
   "id": "0f48acd0",
   "metadata": {},
   "outputs": [],
   "source": [
    "# Base class 2\n",
    "class Pet:\n",
    "    def __init__(self, owner):\n",
    "        self.owner = owner\n",
    "\n",
    "    def play(self):\n",
    "        print(f\"{self.owner} is playing with the pet\")"
   ]
  },
  {
   "cell_type": "code",
   "execution_count": 10,
   "id": "2e3702c8",
   "metadata": {},
   "outputs": [],
   "source": [
    "# Derived class\n",
    "class Dog(Animal, Pet):\n",
    "    def __init__(self, name, owner):\n",
    "        Animal.__init__(self, name)\n",
    "        Pet.__init__(self, owner)\n",
    "\n",
    "    def speak(self):\n",
    "        print(f\"{self.name} says Woof!\")"
   ]
  },
  {
   "cell_type": "code",
   "execution_count": 11,
   "id": "de8a6874",
   "metadata": {},
   "outputs": [
    {
     "name": "stdout",
     "output_type": "stream",
     "text": [
      "Buddy says Woof!\n",
      "Alice is playing with the pet\n"
     ]
    }
   ],
   "source": [
    "dog1 = Dog(\"Buddy\", \"Alice\")\n",
    "dog1.speak()\n",
    "dog1.play()"
   ]
  },
  {
   "cell_type": "code",
   "execution_count": null,
   "id": "7eba0478",
   "metadata": {},
   "outputs": [],
   "source": []
  }
 ],
 "metadata": {
  "kernelspec": {
   "display_name": "base",
   "language": "python",
   "name": "python3"
  },
  "language_info": {
   "codemirror_mode": {
    "name": "ipython",
    "version": 3
   },
   "file_extension": ".py",
   "mimetype": "text/x-python",
   "name": "python",
   "nbconvert_exporter": "python",
   "pygments_lexer": "ipython3",
   "version": "3.12.7"
  }
 },
 "nbformat": 4,
 "nbformat_minor": 5
}
