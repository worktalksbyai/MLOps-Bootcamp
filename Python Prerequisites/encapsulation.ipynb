{
 "cells": [
  {
   "cell_type": "code",
   "execution_count": 3,
   "id": "c0ac0a55",
   "metadata": {},
   "outputs": [
    {
     "name": "stdout",
     "output_type": "stream",
     "text": [
      "Alice\n",
      "30\n"
     ]
    }
   ],
   "source": [
    "class Person:\n",
    "    def __init__(self, name, age):\n",
    "        self.name = name     # Public variable\n",
    "        self.age = age       # Public variable\n",
    "\n",
    "def get_name(person):\n",
    "    return person.name\n",
    "\n",
    "person = Person(\"Alice\", 30)\n",
    "print(get_name(person))  # Accessing public variable\n",
    "print(person.age)   # Accessing public variable"
   ]
  },
  {
   "cell_type": "code",
   "execution_count": 4,
   "id": "b07405a4",
   "metadata": {},
   "outputs": [
    {
     "ename": "AttributeError",
     "evalue": "'Person' object has no attribute '__name'",
     "output_type": "error",
     "traceback": [
      "\u001b[0;31m---------------------------------------------------------------------------\u001b[0m",
      "\u001b[0;31mAttributeError\u001b[0m                            Traceback (most recent call last)",
      "Cell \u001b[0;32mIn[4], line 11\u001b[0m\n\u001b[1;32m      8\u001b[0m     \u001b[38;5;28;01mreturn\u001b[39;00m person\u001b[38;5;241m.\u001b[39m__name  \u001b[38;5;66;03m# Attempting to access private variable (will raise an error)\u001b[39;00m\n\u001b[1;32m     10\u001b[0m person \u001b[38;5;241m=\u001b[39m Person(\u001b[38;5;124m\"\u001b[39m\u001b[38;5;124mBob\u001b[39m\u001b[38;5;124m\"\u001b[39m, \u001b[38;5;241m25\u001b[39m, \u001b[38;5;124m\"\u001b[39m\u001b[38;5;124mMale\u001b[39m\u001b[38;5;124m\"\u001b[39m)\n\u001b[0;32m---> 11\u001b[0m \u001b[38;5;28mprint\u001b[39m(get_name(person))\n",
      "Cell \u001b[0;32mIn[4], line 8\u001b[0m, in \u001b[0;36mget_name\u001b[0;34m(person)\u001b[0m\n\u001b[1;32m      7\u001b[0m \u001b[38;5;28;01mdef\u001b[39;00m \u001b[38;5;21mget_name\u001b[39m(person):\n\u001b[0;32m----> 8\u001b[0m     \u001b[38;5;28;01mreturn\u001b[39;00m person\u001b[38;5;241m.\u001b[39m__name\n",
      "\u001b[0;31mAttributeError\u001b[0m: 'Person' object has no attribute '__name'"
     ]
    }
   ],
   "source": [
    "class Person:\n",
    "    def __init__(self, name, age, gender):\n",
    "        self.__name = name      # Private variable\n",
    "        self.__age = age        # Private variable\n",
    "        self.gender = gender    # Public variable\n",
    "\n",
    "def get_name(person):\n",
    "    return person.__name  # Attempting to access private variable (will raise an error)\n",
    "\n",
    "person = Person(\"Bob\", 25, \"Male\")\n",
    "print(get_name(person))  # This will raise an AttributeError"
   ]
  },
  {
   "cell_type": "code",
   "execution_count": 5,
   "id": "9df43ce6",
   "metadata": {},
   "outputs": [
    {
     "data": {
      "text/plain": [
       "['_Person__age',\n",
       " '_Person__name',\n",
       " '__class__',\n",
       " '__delattr__',\n",
       " '__dict__',\n",
       " '__dir__',\n",
       " '__doc__',\n",
       " '__eq__',\n",
       " '__format__',\n",
       " '__ge__',\n",
       " '__getattribute__',\n",
       " '__getstate__',\n",
       " '__gt__',\n",
       " '__hash__',\n",
       " '__init__',\n",
       " '__init_subclass__',\n",
       " '__le__',\n",
       " '__lt__',\n",
       " '__module__',\n",
       " '__ne__',\n",
       " '__new__',\n",
       " '__reduce__',\n",
       " '__reduce_ex__',\n",
       " '__repr__',\n",
       " '__setattr__',\n",
       " '__sizeof__',\n",
       " '__str__',\n",
       " '__subclasshook__',\n",
       " '__weakref__',\n",
       " 'gender']"
      ]
     },
     "execution_count": 5,
     "metadata": {},
     "output_type": "execute_result"
    }
   ],
   "source": [
    "dir(person)"
   ]
  },
  {
   "cell_type": "code",
   "execution_count": 15,
   "id": "7c65c410",
   "metadata": {},
   "outputs": [
    {
     "name": "stdout",
     "output_type": "stream",
     "text": [
      "Charlie\n"
     ]
    }
   ],
   "source": [
    "class Person:\n",
    "    def __init__(self, name, age, gender):\n",
    "        self._name = name      # Protected variable\n",
    "        self._age = age        # Protected variable\n",
    "        self.gender = gender    # Public variable\n",
    "\n",
    "class Employee(Person):\n",
    "    def __init__(self, name, age, gender):\n",
    "        super().__init__(name, age, gender)\n",
    "\n",
    "employee = Employee(\"Charlie\", 34, \"male\")\n",
    "print(employee._name)  # Accessing protected variable (not recommended, but allowed)"
   ]
  },
  {
   "cell_type": "code",
   "execution_count": 16,
   "id": "52f242f4",
   "metadata": {},
   "outputs": [
    {
     "name": "stdout",
     "output_type": "stream",
     "text": [
      "David\n",
      "Eve\n",
      "Eve\n",
      "Age must be positive\n"
     ]
    }
   ],
   "source": [
    "class Person:\n",
    "    def __init__(self, name, age):\n",
    "        self.__name = name\n",
    "        self.__age = age\n",
    "\n",
    "    def get_name(self):\n",
    "        return self.__name # Getter method for private variable\n",
    "\n",
    "    def set_name(self, name):\n",
    "        self.__name = name # Setter method for private variable\n",
    "\n",
    "    def set_age(self, age):\n",
    "        if age > 0:\n",
    "            self.__age = age\n",
    "        else:\n",
    "            print(\"Age must be positive\")\n",
    "\n",
    "person = Person(\"David\", 40)\n",
    "\n",
    "print(person.get_name())  # Accessing private variable through getter\n",
    "person.set_name(\"Eve\")    # Setting new name through setter\n",
    "print(person.get_name())  # Accessing updated private variable through getter\n",
    "person.set_age(35)        # Setting age through setter\n",
    "print(person.get_name())  # Accessing private variable through getter\n",
    "person.set_age(-5)        # Attempting to set invalid age"
   ]
  },
  {
   "cell_type": "code",
   "execution_count": null,
   "id": "f95c8b62",
   "metadata": {},
   "outputs": [],
   "source": []
  }
 ],
 "metadata": {
  "kernelspec": {
   "display_name": "base",
   "language": "python",
   "name": "python3"
  },
  "language_info": {
   "codemirror_mode": {
    "name": "ipython",
    "version": 3
   },
   "file_extension": ".py",
   "mimetype": "text/x-python",
   "name": "python",
   "nbconvert_exporter": "python",
   "pygments_lexer": "ipython3",
   "version": "3.12.7"
  }
 },
 "nbformat": 4,
 "nbformat_minor": 5
}
