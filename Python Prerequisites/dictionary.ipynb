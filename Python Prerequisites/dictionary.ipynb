{
 "cells": [
  {
   "cell_type": "code",
   "execution_count": 1,
   "id": "8649345c",
   "metadata": {},
   "outputs": [
    {
     "name": "stdout",
     "output_type": "stream",
     "text": [
      "<class 'dict'>\n"
     ]
    }
   ],
   "source": [
    "my_dict = {}\n",
    "print(type(my_dict))"
   ]
  },
  {
   "cell_type": "code",
   "execution_count": 2,
   "id": "d5cebee1",
   "metadata": {},
   "outputs": [
    {
     "name": "stdout",
     "output_type": "stream",
     "text": [
      "<class 'dict'>\n",
      "John\n",
      "{'name': 'John', 'age': 20, 'grade': 'A', 'courses': ['Math', 'Science', 'English']}\n"
     ]
    }
   ],
   "source": [
    "student = {\"name\": \"John\",\n",
    "           \"age\": 20,\n",
    "           \"grade\": \"A\",\n",
    "           \"courses\": [\"Math\", \"Science\", \"English\"]}\n",
    "print(type(student))\n",
    "print(student[\"name\"])\n",
    "print(student)"
   ]
  },
  {
   "cell_type": "code",
   "execution_count": 3,
   "id": "0ea325d3",
   "metadata": {},
   "outputs": [
    {
     "name": "stdout",
     "output_type": "stream",
     "text": [
      "{'name': 'Alice', 'age': 22, 'grade': 'B', 'courses': ['History', 'Math']}\n"
     ]
    }
   ],
   "source": [
    "student1 = dict(name=\"Alice\", age=22, grade=\"B\", courses=[\"History\", \"Math\"])\n",
    "print(student1)"
   ]
  },
  {
   "cell_type": "code",
   "execution_count": 4,
   "id": "a3147550",
   "metadata": {},
   "outputs": [
    {
     "name": "stdout",
     "output_type": "stream",
     "text": [
      "['History', 'Math']\n",
      "22\n"
     ]
    }
   ],
   "source": [
    "print(student1[\"courses\"])\n",
    "print(student1['age'])"
   ]
  },
  {
   "cell_type": "code",
   "execution_count": null,
   "id": "92498c63",
   "metadata": {},
   "outputs": [
    {
     "data": {
      "text/plain": [
       "'John'"
      ]
     },
     "execution_count": 5,
     "metadata": {},
     "output_type": "execute_result"
    }
   ],
   "source": [
    "student.get(\"name\", \"Unknown\") #Unknown is the default value if \"name\" is not found"
   ]
  },
  {
   "cell_type": "code",
   "execution_count": 6,
   "id": "462aa870",
   "metadata": {},
   "outputs": [
    {
     "name": "stdout",
     "output_type": "stream",
     "text": [
      "{'name': 'Alice', 'age': 23, 'grade': 'B', 'courses': ['History', 'Math']}\n",
      "{'name': 'John', 'age': 20, 'grade': 'A', 'courses': ['Math', 'Science', 'English'], 'address': '123 Main St'}\n"
     ]
    }
   ],
   "source": [
    "student1[\"age\"] = 23\n",
    "print(student1)\n",
    "student[\"address\"] = \"123 Main St\"\n",
    "print(student)"
   ]
  },
  {
   "cell_type": "code",
   "execution_count": 7,
   "id": "1960d34f",
   "metadata": {},
   "outputs": [
    {
     "name": "stdout",
     "output_type": "stream",
     "text": [
      "{'name': 'John', 'age': 20, 'courses': ['Math', 'Science', 'English'], 'address': '123 Main St'}\n"
     ]
    }
   ],
   "source": [
    "del student[\"grade\"]\n",
    "print(student)"
   ]
  },
  {
   "cell_type": "code",
   "execution_count": 8,
   "id": "84444f0f",
   "metadata": {},
   "outputs": [
    {
     "data": {
      "text/plain": [
       "dict_keys(['name', 'age', 'courses', 'address'])"
      ]
     },
     "execution_count": 8,
     "metadata": {},
     "output_type": "execute_result"
    }
   ],
   "source": [
    "student.keys()  # Returns a view object displaying a list of all the keys"
   ]
  },
  {
   "cell_type": "code",
   "execution_count": 9,
   "id": "2c54fc4b",
   "metadata": {},
   "outputs": [
    {
     "data": {
      "text/plain": [
       "dict_items([('name', 'Alice'), ('age', 23), ('grade', 'B'), ('courses', ['History', 'Math'])])"
      ]
     },
     "execution_count": 9,
     "metadata": {},
     "output_type": "execute_result"
    }
   ],
   "source": [
    "student1.items()  # Returns a view object displaying a list of all the key-value pairs"
   ]
  },
  {
   "cell_type": "code",
   "execution_count": 10,
   "id": "942b095d",
   "metadata": {},
   "outputs": [
    {
     "name": "stdout",
     "output_type": "stream",
     "text": [
      "{'name': 'John', 'age': 20, 'courses': ['Math', 'Science', 'English'], 'address': '123 Main St'}\n"
     ]
    }
   ],
   "source": [
    "student_copy = student.copy()  # Creates a shallow copy of the dictionary\n",
    "print(student_copy)"
   ]
  },
  {
   "cell_type": "code",
   "execution_count": 11,
   "id": "0afd7570",
   "metadata": {},
   "outputs": [
    {
     "name": "stdout",
     "output_type": "stream",
     "text": [
      "name: John\n",
      "age: 20\n",
      "courses: ['Math', 'Science', 'English']\n",
      "address: 123 Main St\n"
     ]
    }
   ],
   "source": [
    "#Iterating through a dictionary\n",
    "for key in student:\n",
    "    print(f\"{key}: {student[key]}\")"
   ]
  },
  {
   "cell_type": "code",
   "execution_count": 12,
   "id": "1d906f06",
   "metadata": {},
   "outputs": [
    {
     "name": "stdout",
     "output_type": "stream",
     "text": [
      "name\n",
      "age\n",
      "grade\n",
      "courses\n"
     ]
    }
   ],
   "source": [
    "for keys in student1.keys():\n",
    "    print(keys)"
   ]
  },
  {
   "cell_type": "code",
   "execution_count": 13,
   "id": "df78f410",
   "metadata": {},
   "outputs": [
    {
     "name": "stdout",
     "output_type": "stream",
     "text": [
      "Alice\n",
      "23\n",
      "B\n",
      "['History', 'Math']\n"
     ]
    }
   ],
   "source": [
    "for values in student1.values():\n",
    "    print(values)"
   ]
  },
  {
   "cell_type": "code",
   "execution_count": 14,
   "id": "9f7e7271",
   "metadata": {},
   "outputs": [
    {
     "name": "stdout",
     "output_type": "stream",
     "text": [
      "('name', 'Alice')\n",
      "('age', 23)\n",
      "('grade', 'B')\n",
      "('courses', ['History', 'Math'])\n"
     ]
    }
   ],
   "source": [
    "for item in student1.items():\n",
    "    print(item)"
   ]
  },
  {
   "cell_type": "code",
   "execution_count": 15,
   "id": "eab54745",
   "metadata": {},
   "outputs": [
    {
     "name": "stdout",
     "output_type": "stream",
     "text": [
      "name -> Alice\n",
      "age -> 23\n",
      "grade -> B\n",
      "courses -> ['History', 'Math']\n"
     ]
    }
   ],
   "source": [
    "for key, value in student1.items():\n",
    "    print(f\"{key} -> {value}\")"
   ]
  },
  {
   "cell_type": "code",
   "execution_count": 16,
   "id": "8bfa0d12",
   "metadata": {},
   "outputs": [
    {
     "name": "stdout",
     "output_type": "stream",
     "text": [
      "{'student1': {'name': 'John', 'age': 20, 'grade': 'A'}, 'student2': {'name': 'Alice', 'age': 22, 'grade': 'B'}, 'student3': {'name': 'Bob', 'age': 21, 'grade': 'C'}}\n"
     ]
    }
   ],
   "source": [
    "students = {\n",
    "    \"student1\": {\"name\": \"John\", \"age\": 20, \"grade\": \"A\"},\n",
    "    \"student2\": {\"name\": \"Alice\", \"age\": 22, \"grade\": \"B\"},\n",
    "    \"student3\": {\"name\": \"Bob\", \"age\": 21, \"grade\": \"C\"}\n",
    "}\n",
    "print(students)"
   ]
  },
  {
   "cell_type": "code",
   "execution_count": 19,
   "id": "7e02cef2",
   "metadata": {},
   "outputs": [
    {
     "data": {
      "text/plain": [
       "20"
      ]
     },
     "execution_count": 19,
     "metadata": {},
     "output_type": "execute_result"
    }
   ],
   "source": [
    "students[\"student1\"][\"age\"]"
   ]
  },
  {
   "cell_type": "code",
   "execution_count": 20,
   "id": "ea1e7e21",
   "metadata": {},
   "outputs": [
    {
     "name": "stdout",
     "output_type": "stream",
     "text": [
      "ID: student1\n",
      "name: John\n",
      "age: 20\n",
      "grade: A\n",
      "\n",
      "ID: student2\n",
      "name: Alice\n",
      "age: 22\n",
      "grade: B\n",
      "\n",
      "ID: student3\n",
      "name: Bob\n",
      "age: 21\n",
      "grade: C\n",
      "\n"
     ]
    }
   ],
   "source": [
    "#Iterating over nested dictionaries\n",
    "for student_id, student_info in students.items():\n",
    "    print(f\"ID: {student_id}\")\n",
    "    for key, value in student_info.items():\n",
    "        print(f\"{key}: {value}\")\n",
    "    print()  # Print a newline for better readability"
   ]
  },
  {
   "cell_type": "code",
   "execution_count": 21,
   "id": "1ca03ea9",
   "metadata": {},
   "outputs": [
    {
     "name": "stdout",
     "output_type": "stream",
     "text": [
      "{1: 1, 2: 4, 3: 9, 4: 16, 5: 25}\n"
     ]
    }
   ],
   "source": [
    "#Dictionary Comprehensions\n",
    "squares = {x: x**2 for x in range(1, 6)}\n",
    "print(squares)"
   ]
  },
  {
   "cell_type": "code",
   "execution_count": 22,
   "id": "cc92e3ad",
   "metadata": {},
   "outputs": [
    {
     "name": "stdout",
     "output_type": "stream",
     "text": [
      "{2: 4, 4: 16, 6: 36, 8: 64, 10: 100}\n"
     ]
    }
   ],
   "source": [
    "# Conditional Dictionary Comprehensions\n",
    "even_squares = {x: x**2 for x in range(1, 11) if x % 2 == 0}\n",
    "print(even_squares)"
   ]
  },
  {
   "cell_type": "code",
   "execution_count": 23,
   "id": "c84d1dd2",
   "metadata": {},
   "outputs": [
    {
     "name": "stdout",
     "output_type": "stream",
     "text": [
      "{1: 1, 2: 2, 3: 3, 4: 4}\n"
     ]
    }
   ],
   "source": [
    "# Use a dictionary to count the frequency of elements in a list\n",
    "numbers = [1, 2, 2, 3, 3, 3, 4, 4, 4, 4]\n",
    "frequency = {num: numbers.count(num) for num in set(numbers)}\n",
    "print(frequency)"
   ]
  },
  {
   "cell_type": "code",
   "execution_count": 24,
   "id": "6eb20a08",
   "metadata": {},
   "outputs": [
    {
     "name": "stdout",
     "output_type": "stream",
     "text": [
      "{'t': 4, 'o': 6, 'L': 1, 'i': 3, 'l': 2, 's': 5, 'a': 2, 'P': 1, 'g': 1, 'd': 2, 'O': 1, 'p': 1, 'h': 2, 'y': 1, 'c': 1, 'f': 1, 'w': 2, 'm': 1, 'r': 2, 'M': 1, 'n': 5, 'e': 4}\n"
     ]
    }
   ],
   "source": [
    "# Use a dictionary to count the frequency of characters in a string\n",
    "text = \"welcome to the world of Python and ML Ops training sessions\"\n",
    "char_frequency = {char: text.count(char) for char in set(text) if char != ' '}\n",
    "print(char_frequency)"
   ]
  },
  {
   "cell_type": "code",
   "execution_count": 25,
   "id": "82ced6c2",
   "metadata": {},
   "outputs": [
    {
     "name": "stdout",
     "output_type": "stream",
     "text": [
      "{'a': 1, 'b': 2, 'c': 3, 'd': 4, 'e': 5}\n"
     ]
    }
   ],
   "source": [
    "dict1 = {\"a\": 1, \"b\": 2, \"c\": 3}\n",
    "dict2 = {\"d\": 4, \"e\": 5}\n",
    "merged_dict = {**dict1, **dict2}\n",
    "print(merged_dict)"
   ]
  },
  {
   "cell_type": "code",
   "execution_count": 27,
   "id": "b685295d",
   "metadata": {},
   "outputs": [],
   "source": [
    "merged_dict2 = {\"name\": \"John\", **dict1}"
   ]
  },
  {
   "cell_type": "code",
   "execution_count": null,
   "id": "195a7796",
   "metadata": {},
   "outputs": [],
   "source": []
  }
 ],
 "metadata": {
  "kernelspec": {
   "display_name": "base",
   "language": "python",
   "name": "python3"
  },
  "language_info": {
   "codemirror_mode": {
    "name": "ipython",
    "version": 3
   },
   "file_extension": ".py",
   "mimetype": "text/x-python",
   "name": "python",
   "nbconvert_exporter": "python",
   "pygments_lexer": "ipython3",
   "version": "3.12.7"
  }
 },
 "nbformat": 4,
 "nbformat_minor": 5
}
