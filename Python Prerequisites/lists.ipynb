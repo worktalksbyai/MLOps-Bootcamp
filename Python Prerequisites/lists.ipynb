{
 "cells": [
  {
   "cell_type": "code",
   "execution_count": 1,
   "id": "0db27de0",
   "metadata": {},
   "outputs": [
    {
     "name": "stdout",
     "output_type": "stream",
     "text": [
      "You have homework to finish.\n",
      "Current To-Do List:\n",
      "- Buy groceries\n",
      "- Finish homework\n",
      "- Schedule meeting\n",
      "- Go for a run\n"
     ]
    }
   ],
   "source": [
    "to_do_list = [\"Buy groceries\", \"Walk the dog\", \"Finish homework\"]\n",
    "\n",
    "#Adding to Task\n",
    "to_do_list.append(\"Schedule meeting\")\n",
    "to_do_list.append(\"Go for a run\")\n",
    "\n",
    "#Removing a completed task\n",
    "to_do_list.remove(\"Walk the dog\")\n",
    "\n",
    "#Checking if a task is in the list\n",
    "if \"Finish homework\" in to_do_list:\n",
    "    print(\"You have homework to finish.\")\n",
    "\n",
    "#Printing the current to-do list\n",
    "print(\"Current To-Do List:\")\n",
    "for task in to_do_list:\n",
    "    print(f\"- {task}\")"
   ]
  },
  {
   "cell_type": "code",
   "execution_count": 2,
   "id": "fb6ff76b",
   "metadata": {},
   "outputs": [
    {
     "name": "stdout",
     "output_type": "stream",
     "text": [
      "Average Grade: 88.00\n",
      "Highest Grade: 95\n",
      "Lowest Grade: 78\n"
     ]
    }
   ],
   "source": [
    "#Organizing student grades\n",
    "grades = [85, 92, 78, 90, 88]\n",
    "\n",
    "#Adding a new grade\n",
    "grades.append(95)\n",
    "\n",
    "#Calculating the average grade\n",
    "average_grade = sum(grades) / len(grades)\n",
    "print(f\"Average Grade: {average_grade:.2f}\")\n",
    "\n",
    "highest_grade = max(grades)\n",
    "lowest_grade = min(grades)\n",
    "print(f\"Highest Grade: {highest_grade}\")\n",
    "print(f\"Lowest Grade: {lowest_grade}\")"
   ]
  },
  {
   "cell_type": "code",
   "execution_count": 3,
   "id": "65077239",
   "metadata": {},
   "outputs": [
    {
     "name": "stdout",
     "output_type": "stream",
     "text": [
      "oranges are available in the inventory.\n",
      "Current Inventory:\n",
      "- apples\n",
      "- oranges\n",
      "- grapes\n",
      "- strawberries\n"
     ]
    }
   ],
   "source": [
    "#Managing an inventory of items\n",
    "inventory = [\"apples\", \"bananas\", \"oranges\", \"grapes\"]\n",
    "\n",
    "inventory.append(\"strawberries\")\n",
    "inventory.remove(\"bananas\")\n",
    "\n",
    "item = \"oranges\"\n",
    "if item in inventory:\n",
    "    print(f\"{item} are available in the inventory.\")\n",
    "else:\n",
    "    print(f\"{item} are not available in the inventory.\")\n",
    "\n",
    "#Printing the current inventory\n",
    "print(\"Current Inventory:\")\n",
    "for item in inventory:\n",
    "    print(f\"- {item}\")"
   ]
  },
  {
   "cell_type": "code",
   "execution_count": 5,
   "id": "d84ec61a",
   "metadata": {},
   "outputs": [
    {
     "name": "stdout",
     "output_type": "stream",
     "text": [
      "Positive Feedback:\n",
      "- Great service\n",
      "- Excellent experience\n",
      "All Feedback:\n",
      "- Great service\n",
      "- Very satisfied\n",
      "- Could be better\n",
      "- Excellent experience\n",
      "- Not happy with the service\n"
     ]
    }
   ],
   "source": [
    "feedback = [\"Great service\", \"Very satisfied\", \"Could be better\", \"Excellent experience\"]\n",
    "\n",
    "feedback.append(\"Not happy with the service\")\n",
    "\n",
    "positive_feedback = [f for f in feedback if \"Great\" in f or \"Excellent\" in f]\n",
    "print(\"Positive Feedback:\")\n",
    "for f in positive_feedback:\n",
    "    print(f\"- {f}\")\n",
    "\n",
    "#Printing all feedback\n",
    "print(\"All Feedback:\")\n",
    "for f in feedback:\n",
    "    print(f\"- {f}\")"
   ]
  },
  {
   "cell_type": "code",
   "execution_count": null,
   "id": "13193767",
   "metadata": {},
   "outputs": [],
   "source": []
  }
 ],
 "metadata": {
  "kernelspec": {
   "display_name": "base",
   "language": "python",
   "name": "python3"
  },
  "language_info": {
   "codemirror_mode": {
    "name": "ipython",
    "version": 3
   },
   "file_extension": ".py",
   "mimetype": "text/x-python",
   "name": "python",
   "nbconvert_exporter": "python",
   "pygments_lexer": "ipython3",
   "version": "3.12.7"
  }
 },
 "nbformat": 4,
 "nbformat_minor": 5
}
