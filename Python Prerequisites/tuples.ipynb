{
 "cells": [
  {
   "cell_type": "code",
   "execution_count": 1,
   "id": "57e79885",
   "metadata": {},
   "outputs": [
    {
     "name": "stdout",
     "output_type": "stream",
     "text": [
      "<class 'tuple'>\n"
     ]
    }
   ],
   "source": [
    "empty_tuple = ()\n",
    "print(type(empty_tuple))"
   ]
  },
  {
   "cell_type": "code",
   "execution_count": 2,
   "id": "5384a6e5",
   "metadata": {},
   "outputs": [
    {
     "data": {
      "text/plain": [
       "(1, 2, 3, 4, 5, 6)"
      ]
     },
     "execution_count": 2,
     "metadata": {},
     "output_type": "execute_result"
    }
   ],
   "source": [
    "numbers = (1, 2, 3, 4, 5, 6)\n",
    "numbers"
   ]
  },
  {
   "cell_type": "code",
   "execution_count": 3,
   "id": "c69a7572",
   "metadata": {},
   "outputs": [
    {
     "name": "stdout",
     "output_type": "stream",
     "text": [
      "(1, 2, 3, 4, 5, 6)\n"
     ]
    }
   ],
   "source": [
    "numbers2 = tuple([1, 2, 3, 4, 5, 6])\n",
    "print(numbers2)"
   ]
  },
  {
   "cell_type": "code",
   "execution_count": 4,
   "id": "c7aa57e8",
   "metadata": {},
   "outputs": [
    {
     "name": "stdout",
     "output_type": "stream",
     "text": [
      "(1, 2.5, 'Hello', True)\n"
     ]
    }
   ],
   "source": [
    "mixed_tuple = (1, 2.5, \"Hello\", True)\n",
    "print(mixed_tuple)"
   ]
  },
  {
   "cell_type": "code",
   "execution_count": 5,
   "id": "caac49d5",
   "metadata": {},
   "outputs": [
    {
     "data": {
      "text/plain": [
       "1"
      ]
     },
     "execution_count": 5,
     "metadata": {},
     "output_type": "execute_result"
    }
   ],
   "source": [
    "numbers[0]  # Accessing the first element"
   ]
  },
  {
   "cell_type": "code",
   "execution_count": 6,
   "id": "3c9a18bf",
   "metadata": {},
   "outputs": [
    {
     "data": {
      "text/plain": [
       "'Hello'"
      ]
     },
     "execution_count": 6,
     "metadata": {},
     "output_type": "execute_result"
    }
   ],
   "source": [
    "mixed_tuple[2]"
   ]
  },
  {
   "cell_type": "code",
   "execution_count": 7,
   "id": "a9f9b60d",
   "metadata": {},
   "outputs": [
    {
     "data": {
      "text/plain": [
       "(1, 2.5, 'Hello')"
      ]
     },
     "execution_count": 7,
     "metadata": {},
     "output_type": "execute_result"
    }
   ],
   "source": [
    "mixed_tuple[0:3]  # Slicing the first three elements"
   ]
  },
  {
   "cell_type": "code",
   "execution_count": 8,
   "id": "f35398a2",
   "metadata": {},
   "outputs": [
    {
     "data": {
      "text/plain": [
       "(6, 5, 4, 3, 2, 1)"
      ]
     },
     "execution_count": 8,
     "metadata": {},
     "output_type": "execute_result"
    }
   ],
   "source": [
    "numbers[::-1]  # Reversing the tuple"
   ]
  },
  {
   "cell_type": "code",
   "execution_count": 10,
   "id": "539abf88",
   "metadata": {},
   "outputs": [
    {
     "name": "stdout",
     "output_type": "stream",
     "text": [
      "(1, 2, 3, 4, 5, 6, 1, 2.5, 'Hello', True)\n"
     ]
    }
   ],
   "source": [
    "concat_tuple = numbers + mixed_tuple\n",
    "print(concat_tuple)"
   ]
  },
  {
   "cell_type": "code",
   "execution_count": 11,
   "id": "651a4307",
   "metadata": {},
   "outputs": [
    {
     "name": "stdout",
     "output_type": "stream",
     "text": [
      "(1, 2.5, 'Hello', True, 1, 2.5, 'Hello', True)\n"
     ]
    }
   ],
   "source": [
    "repeat_tuple = mixed_tuple * 2\n",
    "print(repeat_tuple)"
   ]
  },
  {
   "cell_type": "code",
   "execution_count": 12,
   "id": "1b4cfbed",
   "metadata": {},
   "outputs": [
    {
     "name": "stdout",
     "output_type": "stream",
     "text": [
      "(1, 2, 3, 4, 5, 6, 1, 2, 3, 4, 5, 6, 1, 2, 3, 4, 5, 6)\n"
     ]
    }
   ],
   "source": [
    "repeat_num = numbers * 3\n",
    "print(repeat_num)"
   ]
  },
  {
   "cell_type": "code",
   "execution_count": 14,
   "id": "1867a8ac",
   "metadata": {},
   "outputs": [
    {
     "name": "stdout",
     "output_type": "stream",
     "text": [
      "(1, 2, 3, 4, 5, 6, 1, 2, 3, 4, 5, 6, 1, 2, 3, 4, 5, 6, 1, 2, 3, 4, 5, 6)\n"
     ]
    }
   ],
   "source": [
    "repeat_num = numbers * 4\n",
    "print(repeat_num)"
   ]
  },
  {
   "cell_type": "code",
   "execution_count": 15,
   "id": "09b484c4",
   "metadata": {},
   "outputs": [
    {
     "ename": "TypeError",
     "evalue": "'tuple' object does not support item assignment",
     "output_type": "error",
     "traceback": [
      "\u001b[0;31m---------------------------------------------------------------------------\u001b[0m",
      "\u001b[0;31mTypeError\u001b[0m                                 Traceback (most recent call last)",
      "Cell \u001b[0;32mIn[15], line 1\u001b[0m\n\u001b[0;32m----> 1\u001b[0m repeat_num[\u001b[38;5;241m0\u001b[39m] \u001b[38;5;241m=\u001b[39m \u001b[38;5;241m10\u001b[39m\n",
      "\u001b[0;31mTypeError\u001b[0m: 'tuple' object does not support item assignment"
     ]
    }
   ],
   "source": [
    "repeat_num[0] = 10  # This will raise an error since tuples are immutable"
   ]
  },
  {
   "cell_type": "code",
   "execution_count": 16,
   "id": "0d92a452",
   "metadata": {},
   "outputs": [
    {
     "data": {
      "text/plain": [
       "1"
      ]
     },
     "execution_count": 16,
     "metadata": {},
     "output_type": "execute_result"
    }
   ],
   "source": [
    "numbers.count(3)  # Count occurrences of 3 in the tuple"
   ]
  },
  {
   "cell_type": "code",
   "execution_count": 17,
   "id": "87852cf5",
   "metadata": {},
   "outputs": [
    {
     "name": "stdout",
     "output_type": "stream",
     "text": [
      "(1, 'hello', 3.14)\n"
     ]
    }
   ],
   "source": [
    "packed_tuple = 1, \"hello\", 3.14\n",
    "print(packed_tuple)"
   ]
  },
  {
   "cell_type": "code",
   "execution_count": 18,
   "id": "0904514a",
   "metadata": {},
   "outputs": [
    {
     "name": "stdout",
     "output_type": "stream",
     "text": [
      "1 hello 3.14\n"
     ]
    }
   ],
   "source": [
    "a,b,c = packed_tuple  # Tuple unpacking\n",
    "print(a, b, c)"
   ]
  },
  {
   "cell_type": "code",
   "execution_count": 19,
   "id": "7074f7ff",
   "metadata": {},
   "outputs": [
    {
     "name": "stdout",
     "output_type": "stream",
     "text": [
      "1 [2, 3, 4] 5\n"
     ]
    }
   ],
   "source": [
    "numbers = (1, 2, 3, 4, 5)\n",
    "first, *middle, last = numbers  # Extended unpacking\n",
    "print(first, middle, last)"
   ]
  },
  {
   "cell_type": "code",
   "execution_count": 20,
   "id": "adc161eb",
   "metadata": {},
   "outputs": [
    {
     "name": "stdout",
     "output_type": "stream",
     "text": [
      "(1, 2, (3, 4), 5)\n"
     ]
    }
   ],
   "source": [
    "nested_tuple = (1, 2, (3, 4), 5)\n",
    "print(nested_tuple)"
   ]
  },
  {
   "cell_type": "code",
   "execution_count": 21,
   "id": "b4420d5f",
   "metadata": {},
   "outputs": [
    {
     "data": {
      "text/plain": [
       "4"
      ]
     },
     "execution_count": 21,
     "metadata": {},
     "output_type": "execute_result"
    }
   ],
   "source": [
    "nested_tuple[2][1]  # Accessing an element in the nested tuple"
   ]
  },
  {
   "cell_type": "code",
   "execution_count": 23,
   "id": "8489aa91",
   "metadata": {},
   "outputs": [
    {
     "name": "stdout",
     "output_type": "stream",
     "text": [
      "1 2 3 4 5 "
     ]
    }
   ],
   "source": [
    "for item in nested_tuple:\n",
    "    for sub_item in (item if isinstance(item, tuple) else (item,)):\n",
    "        print(sub_item, end=' ')"
   ]
  },
  {
   "cell_type": "code",
   "execution_count": null,
   "id": "e4c1e7ad",
   "metadata": {},
   "outputs": [],
   "source": []
  }
 ],
 "metadata": {
  "kernelspec": {
   "display_name": "base",
   "language": "python",
   "name": "python3"
  },
  "language_info": {
   "codemirror_mode": {
    "name": "ipython",
    "version": 3
   },
   "file_extension": ".py",
   "mimetype": "text/x-python",
   "name": "python",
   "nbconvert_exporter": "python",
   "pygments_lexer": "ipython3",
   "version": "3.12.7"
  }
 },
 "nbformat": 4,
 "nbformat_minor": 5
}
