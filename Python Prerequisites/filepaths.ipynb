{
 "cells": [
  {
   "cell_type": "code",
   "execution_count": 1,
   "id": "5a116f01",
   "metadata": {},
   "outputs": [
    {
     "name": "stdout",
     "output_type": "stream",
     "text": [
      "Directory 'new_directory' created successfully.\n"
     ]
    }
   ],
   "source": [
    "import os\n",
    "new_directory = \"new_directory\"\n",
    "os.mkdir(new_directory)\n",
    "print(f\"Directory '{new_directory}' created successfully.\")"
   ]
  },
  {
   "cell_type": "code",
   "execution_count": 2,
   "id": "a9b68d15",
   "metadata": {},
   "outputs": [
    {
     "name": "stdout",
     "output_type": "stream",
     "text": [
      "Items in the current directory: ['destination.txt', 'example.csv', 'sets.ipynb', 'conditional.ipynb', 'modules.ipynb', 'new_directory', 'lists.ipynb', 'dictionary.ipynb', 'filter.ipynb', 'tuples.ipynb', 'loops.ipynb', 'source.txt', 'functions.ipynb', 'filepaths.ipynb', 'map_function.ipynb', 'example.txt', 'binary_example.bin', 'file_operations.ipynb', 'lambda.ipynb', 'package', 'sample.txt', 'test_directory']\n"
     ]
    }
   ],
   "source": [
    "items = os.listdir('.')\n",
    "print(\"Items in the current directory:\", items)"
   ]
  },
  {
   "cell_type": "code",
   "execution_count": 3,
   "id": "b24a816b",
   "metadata": {},
   "outputs": [
    {
     "name": "stdout",
     "output_type": "stream",
     "text": [
      "Full path to the file: folder/file.txt\n"
     ]
    }
   ],
   "source": [
    "dir_name = \"folder\"\n",
    "file_name = \"file.txt\"\n",
    "full_path = os.path.join(dir_name, file_name)\n",
    "print(\"Full path to the file:\", full_path)"
   ]
  },
  {
   "cell_type": "code",
   "execution_count": 4,
   "id": "72d4b040",
   "metadata": {},
   "outputs": [
    {
     "name": "stdout",
     "output_type": "stream",
     "text": [
      "Full path to the file with current working directory: /Users/aple/Documents/VSCode_GitHub/MLOps Bootcamp/Python Prerequisites/folder/file.txt\n"
     ]
    }
   ],
   "source": [
    "full_path = os.path.join(os.getcwd(), dir_name, file_name)\n",
    "print(\"Full path to the file with current working directory:\", full_path)"
   ]
  },
  {
   "cell_type": "code",
   "execution_count": 5,
   "id": "096a9c0e",
   "metadata": {},
   "outputs": [
    {
     "name": "stdout",
     "output_type": "stream",
     "text": [
      "Path 'example.txt' exists.\n"
     ]
    }
   ],
   "source": [
    "path = 'example.txt'\n",
    "if os.path.exists(path):\n",
    "    print(f\"Path '{path}' exists.\")\n",
    "else:\n",
    "    print(f\"Path '{path}' does not exist.\")"
   ]
  },
  {
   "cell_type": "code",
   "execution_count": 6,
   "id": "a4c0abfe",
   "metadata": {},
   "outputs": [
    {
     "name": "stdout",
     "output_type": "stream",
     "text": [
      "'example.txt' is a file.\n"
     ]
    }
   ],
   "source": [
    "if os.path.isfile(path):\n",
    "    print(f\"'{path}' is a file.\")\n",
    "elif os.path.isdir(path):\n",
    "    print(f\"'{path}' is a directory.\")\n",
    "else:\n",
    "    print(f\"'{path}' is neither a file nor a directory.\")"
   ]
  },
  {
   "cell_type": "code",
   "execution_count": null,
   "id": "b0f881a8",
   "metadata": {},
   "outputs": [],
   "source": []
  }
 ],
 "metadata": {
  "kernelspec": {
   "display_name": "base",
   "language": "python",
   "name": "python3"
  },
  "language_info": {
   "codemirror_mode": {
    "name": "ipython",
    "version": 3
   },
   "file_extension": ".py",
   "mimetype": "text/x-python",
   "name": "python",
   "nbconvert_exporter": "python",
   "pygments_lexer": "ipython3",
   "version": "3.12.7"
  }
 },
 "nbformat": 4,
 "nbformat_minor": 5
}
