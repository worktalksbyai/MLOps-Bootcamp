{
 "cells": [
  {
   "cell_type": "code",
   "execution_count": 1,
   "id": "5ccec552",
   "metadata": {},
   "outputs": [
    {
     "data": {
      "text/plain": [
       "'Welcome to the advanced Python course!'"
      ]
     },
     "execution_count": 1,
     "metadata": {},
     "output_type": "execute_result"
    }
   ],
   "source": [
    "def welcome():\n",
    "    return \"Welcome to the advanced Python course!\"\n",
    "\n",
    "wel = welcome\n",
    "wel()"
   ]
  },
  {
   "cell_type": "code",
   "execution_count": 3,
   "id": "020b70fd",
   "metadata": {},
   "outputs": [],
   "source": [
    "del welcome"
   ]
  },
  {
   "cell_type": "code",
   "execution_count": 4,
   "id": "d7f61102",
   "metadata": {},
   "outputs": [
    {
     "data": {
      "text/plain": [
       "'Welcome to the advanced Python course!'"
      ]
     },
     "execution_count": 4,
     "metadata": {},
     "output_type": "execute_result"
    }
   ],
   "source": [
    "wel()"
   ]
  },
  {
   "cell_type": "code",
   "execution_count": 12,
   "id": "336c4c1c",
   "metadata": {},
   "outputs": [],
   "source": [
    "def main_welcome():\n",
    "    msg = \"Welcome\"\n",
    "    def sub_welcome():\n",
    "        print(\"Welcome to the advanced Python course!\")\n",
    "        print(msg)\n",
    "    return sub_welcome()"
   ]
  },
  {
   "cell_type": "code",
   "execution_count": 13,
   "id": "6bf36d4d",
   "metadata": {},
   "outputs": [
    {
     "name": "stdout",
     "output_type": "stream",
     "text": [
      "Welcome to the advanced Python course!\n",
      "Welcome\n"
     ]
    }
   ],
   "source": [
    "main_welcome()"
   ]
  },
  {
   "cell_type": "code",
   "execution_count": 16,
   "id": "11e76766",
   "metadata": {},
   "outputs": [],
   "source": [
    "def main_welcome(func):\n",
    "    def sub_welcome():\n",
    "        print(\"Welcome to the advanced Python course!\")\n",
    "        func(\"Welcome2\")\n",
    "    return sub_welcome()"
   ]
  },
  {
   "cell_type": "code",
   "execution_count": 17,
   "id": "3a99fffd",
   "metadata": {},
   "outputs": [
    {
     "name": "stdout",
     "output_type": "stream",
     "text": [
      "Welcome to the advanced Python course!\n",
      "Welcome2\n"
     ]
    }
   ],
   "source": [
    "main_welcome(print)"
   ]
  },
  {
   "cell_type": "code",
   "execution_count": 18,
   "id": "143eefb4",
   "metadata": {},
   "outputs": [],
   "source": [
    "def main_welcome(func):\n",
    "    def sub_welcome():\n",
    "        print(\"Welcome to the advanced Python course!\")\n",
    "        func()\n",
    "    return sub_welcome()"
   ]
  },
  {
   "cell_type": "code",
   "execution_count": 19,
   "id": "43b5c721",
   "metadata": {},
   "outputs": [
    {
     "name": "stdout",
     "output_type": "stream",
     "text": [
      "This is an advanced Python course.\n"
     ]
    }
   ],
   "source": [
    "def course_intro():\n",
    "    print(\"This is an advanced Python course.\")\n",
    "\n",
    "course_intro()"
   ]
  },
  {
   "cell_type": "code",
   "execution_count": 21,
   "id": "1821d6ac",
   "metadata": {},
   "outputs": [
    {
     "name": "stdout",
     "output_type": "stream",
     "text": [
      "Welcome to the advanced Python course!\n",
      "This is an advanced Python course.\n"
     ]
    }
   ],
   "source": [
    "main_welcome(course_intro)"
   ]
  },
  {
   "cell_type": "code",
   "execution_count": 23,
   "id": "9f5f862b",
   "metadata": {},
   "outputs": [
    {
     "name": "stdout",
     "output_type": "stream",
     "text": [
      "Welcome to the advanced Python course!\n",
      "This is an advanced Python course.\n"
     ]
    }
   ],
   "source": [
    "@main_welcome\n",
    "def course_intro():\n",
    "    print(\"This is an advanced Python course.\")"
   ]
  },
  {
   "cell_type": "code",
   "execution_count": 24,
   "id": "75e1f7ed",
   "metadata": {},
   "outputs": [],
   "source": [
    "def my_decorator(func):\n",
    "    def wrapper():\n",
    "        print(\"Decorator is running\")\n",
    "        func()\n",
    "        print(\"Decorator has finished\")\n",
    "    return wrapper"
   ]
  },
  {
   "cell_type": "code",
   "execution_count": 26,
   "id": "9505adae",
   "metadata": {},
   "outputs": [
    {
     "name": "stdout",
     "output_type": "stream",
     "text": [
      "Decorator is running\n",
      "My function is running\n",
      "Decorator has finished\n"
     ]
    }
   ],
   "source": [
    "@my_decorator\n",
    "def my_function():\n",
    "    print(\"My function is running\")\n",
    "\n",
    "my_function()"
   ]
  },
  {
   "cell_type": "code",
   "execution_count": 27,
   "id": "c3766fcf",
   "metadata": {},
   "outputs": [],
   "source": [
    "#Decorators with arguments\n",
    "def repeat_decorator(times):\n",
    "    def decorator(func):\n",
    "        def wrapper(*args, **kwargs):\n",
    "            for _ in range(times):\n",
    "                func(*args, **kwargs)\n",
    "        return wrapper\n",
    "    return decorator"
   ]
  },
  {
   "cell_type": "code",
   "execution_count": 28,
   "id": "ca8af5b9",
   "metadata": {},
   "outputs": [],
   "source": [
    "@repeat_decorator(3)\n",
    "def greet(name):\n",
    "    print(f\"Hello, {name}!\")"
   ]
  },
  {
   "cell_type": "code",
   "execution_count": 29,
   "id": "77fdbed0",
   "metadata": {},
   "outputs": [
    {
     "name": "stdout",
     "output_type": "stream",
     "text": [
      "Hello, Alice!\n",
      "Hello, Alice!\n",
      "Hello, Alice!\n"
     ]
    }
   ],
   "source": [
    "greet(\"Alice\")"
   ]
  },
  {
   "cell_type": "code",
   "execution_count": null,
   "id": "74985cf8",
   "metadata": {},
   "outputs": [],
   "source": []
  }
 ],
 "metadata": {
  "kernelspec": {
   "display_name": "base",
   "language": "python",
   "name": "python3"
  },
  "language_info": {
   "codemirror_mode": {
    "name": "ipython",
    "version": 3
   },
   "file_extension": ".py",
   "mimetype": "text/x-python",
   "name": "python",
   "nbconvert_exporter": "python",
   "pygments_lexer": "ipython3",
   "version": "3.12.7"
  }
 },
 "nbformat": 4,
 "nbformat_minor": 5
}
